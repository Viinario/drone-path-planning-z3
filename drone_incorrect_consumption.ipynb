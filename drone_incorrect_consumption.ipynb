{
 "cells": [
  {
   "cell_type": "code",
   "execution_count": 1,
   "metadata": {},
   "outputs": [],
   "source": [
    "import matplotlib.pyplot as plt\n",
    "\n",
    "from z3 import *\n",
    "import numpy\n"
   ]
  },
  {
   "cell_type": "code",
   "execution_count": null,
   "metadata": {},
   "outputs": [
    {
     "name": "stdout",
     "output_type": "stream",
     "text": [
      "Coordenadas do armazém: [(3, 1), (3, 2), (3, 3), (3, 4), (3, 5), (3, 6), (3, 7), (3, 8), (3, 9), (3, 10), (5, 1), (5, 2), (5, 3), (5, 4), (5, 5), (5, 6), (5, 7), (5, 8), (5, 9), (5, 10), (7, 1), (7, 2), (7, 3), (7, 4), (7, 5), (7, 6), (7, 7), (7, 8), (7, 9), (7, 10), (9, 1), (9, 2), (9, 3), (9, 4), (9, 5), (9, 6), (9, 7), (9, 8), (9, 9), (9, 10)]\n",
      "Posição inicial do drone: (0, 0)\n"
     ]
    }
   ],
   "source": [
    "# Definindo os parâmetros que podem ser editados de acordo com a necessidade\n",
    "num_rows = 4       # Número de \"linhas\" ou grupos de coordenadas no eixo X\n",
    "num_columns = 5   # Número de colunas de coordenadas no eixo Y\n",
    "x_step = 2         # Distância entre as \"linhas\" no eixo X\n",
    "x_offset = 3       # Deslocamento (offset) inicial no eixo X\n",
    "y_offset = 1       # Deslocamento (offset) inicial no eixo Y\n",
    "\n",
    "# Lista para armazenar todas as coordenadas do armazém\n",
    "warehouse = []\n",
    "\n",
    "# Criação das coordenadas do armazém\n",
    "for i in range(num_rows):\n",
    "    # 'i' representa cada linha de coordenadas que será criada\n",
    "    for j in range(num_columns):\n",
    "        # 'j' representa cada coluna na linha correspondente\n",
    "        x = x_step * i + x_offset  # Cálculo da coordenada X\n",
    "        y = j + y_offset           # Cálculo da coordenada Y\n",
    "        warehouse.append((x, y))   # Adiciona a tupla (x, y) na lista\n",
    "\n",
    "# Exibe a lista de coordenadas\n",
    "print(\"Coordenadas do armazém:\", warehouse)\n",
    "\n",
    "# Definição da posição inicial do drone, pode ser alterada conforme necessidade\n",
    "drone = (0, 0)\n",
    "print(\"Posição inicial do drone:\", drone)\n"
   ]
  },
  {
   "cell_type": "code",
   "execution_count": 4,
   "metadata": {},
   "outputs": [
    {
     "data": {
      "image/png": "[encoded data removed]",
      "text/plain": [
       "<Figure size 1000x600 with 1 Axes>"
      ]
     },
     "metadata": {},
     "output_type": "display_data"
    }
   ],
   "source": [
    "# Plot the warehouse environment and drone's path\n",
    "fig, ax = plt.subplots(figsize=(10, 6))\n",
    "# Plot the coordinates\n",
    "for x, y in warehouse:\n",
    "    ax.plot(x, y, 'rs', markersize=10)\n",
    "\n",
    "ax.plot(drone[0], drone[1], 'bo', markersize=10)\n",
    "\n",
    "plt.show()\n",
    "ax.set_aspect('equal')\n"
   ]
  },
  {
   "cell_type": "code",
   "execution_count": null,
   "metadata": {},
   "outputs": [
    {
     "name": "stdout",
     "output_type": "stream",
     "text": [
      "Nenhuma solução encontrada até 40 timesteps.\n"
     ]
    }
   ],
   "source": [
    "def solve_with_min_timesteps(max_timesteps, bmax, gridx, gridy, warehouse):\n",
    "    for timesteps in range(1, max_timesteps + 1):\n",
    "        s = Solver()\n",
    "\n",
    "        # Declaração das variáveis para cada timestep\n",
    "        PGx = [Int(f'pgx_{k}') for k in range(timesteps)]\n",
    "        PGy = [Int(f'pgy_{k}') for k in range(timesteps)]\n",
    "        Bat = [Int(f'bat_{k}') for k in range(timesteps)]\n",
    "\n",
    "        # Restrições de limites para as variáveis\n",
    "        for b in Bat:\n",
    "            s.add(And(b >= 1, b <= bmax))\n",
    "        for x in PGx:\n",
    "            s.add(And(x >= 0, x <= gridx))\n",
    "        for y in PGy:\n",
    "            s.add(And(y >= 0, y <= gridy))\n",
    "\n",
    "        # Condições iniciais\n",
    "        s.add(PGx[0] == 0)\n",
    "        s.add(PGy[0] == 0)\n",
    "        s.add(Bat[0] == bmax)\n",
    "\n",
    "        # Restrições de movimento e consumo de bateria\n",
    "        for k in range(1, timesteps):\n",
    "            s.add(Or(PGx[k] == PGx[k-1] + 1, PGx[k] == PGx[k-1] - 1, PGx[k] == PGx[k-1]))\n",
    "            s.add(Or(PGy[k] == PGy[k-1] + 1, PGy[k] == PGy[k-1] - 1, PGy[k] == PGy[k-1]))\n",
    "\n",
    "            s.add(Implies(\n",
    "                Or(\n",
    "                    And(PGx[k] == PGx[k-1] + 1, PGy[k] == PGy[k-1] + 1, PGx[k] != 0, PGy[k] != 0),\n",
    "                    And(PGx[k] == PGx[k-1] - 1, PGy[k] == PGy[k-1] - 1, PGx[k] != 0, PGy[k] != 0)\n",
    "                ),\n",
    "                Bat[k] == Bat[k-1] - 3\n",
    "            ))\n",
    "            s.add(Implies(\n",
    "                Or(\n",
    "                    And(PGx[k] == PGx[k-1] + 1, PGy[k] == PGy[k-1] - 1, PGx[k] != 0, PGy[k] != 0),\n",
    "                    And(PGx[k] == PGx[k-1] - 1, PGy[k] == PGy[k-1] + 1, PGx[k] != 0, PGy[k] != 0)\n",
    "                ),\n",
    "                Bat[k] == Bat[k-1] - 3\n",
    "            ))\n",
    "            s.add(Implies(\n",
    "                Or(\n",
    "                    And(PGx[k] == PGx[k-1] + 1, PGy[k] == PGy[k-1], PGx[k] != 0, PGy[k] != 0),\n",
    "                    And(PGx[k] == PGx[k-1] - 1, PGy[k] == PGy[k-1], PGx[k] != 0, PGy[k] != 0)\n",
    "                ),\n",
    "                Bat[k] == Bat[k-1] - 2\n",
    "            ))\n",
    "            s.add(Implies(\n",
    "                Or(\n",
    "                    And(PGx[k] == PGx[k-1], PGy[k] == PGy[k-1] - 1),\n",
    "                    And(PGx[k] == PGx[k-1], PGy[k] == PGy[k-1] + 1)\n",
    "                ),\n",
    "                Bat[k] == Bat[k-1] - 2\n",
    "            ))\n",
    "            s.add(Implies(\n",
    "                And(PGx[k] == PGx[k-1], PGy[k] == PGy[k-1], PGx[k] != 0, PGy[k] != 0),\n",
    "                Bat[k] == Bat[k-1]\n",
    "            ))\n",
    "            s.add(Implies(And(PGx[k] == 0, PGy[k] == 0), Bat[k] == bmax))\n",
    "\n",
    "        # Cada ponto no warehouse deve ser visitado em algum timestep\n",
    "        for (x, y) in warehouse:\n",
    "            s.add(Or([And(PGx[k] == x, PGy[k] == y) for k in range(timesteps)]))\n",
    "\n",
    "        if s.check() == sat:\n",
    "            m = s.model()\n",
    "            print(\"Solução encontrada com\", timesteps, \"timesteps mínimos:\")\n",
    "            return m, timesteps, PGx, PGy, Bat\n",
    "\n",
    "    print(\"Nenhuma solução encontrada até\", max_timesteps, \"timesteps.\")\n",
    "    return None, None, None, None, None\n",
    "\n",
    "# Parâmetros do problema\n",
    "max_timesteps = 100  # Limite superior para a busca de timesteps\n",
    "bmax = 100\n",
    "gridx = 9\n",
    "gridy = 10\n",
    "\n",
    "# Resolver o problema e obter o modelo e o número de timesteps mínimo\n",
    "model, timesteps, PGx, PGy, Bat = solve_with_min_timesteps(max_timesteps, bmax, gridx, gridy, warehouse)\n",
    "\n",
    "if model:\n",
    "    # Extraindo os valores do modelo\n",
    "    pgx_values = [model.evaluate(PGx[k]).as_long() for k in range(timesteps)]\n",
    "    pgy_values = [model.evaluate(PGy[k]).as_long() for k in range(timesteps)]\n",
    "    bat_values = [model.evaluate(Bat[k]).as_long() for k in range(timesteps)]\n",
    "\n",
    "    # Exibindo os resultados\n",
    "    print(\"\\nTrajetória do Drone:\")\n",
    "    for t in range(timesteps):\n",
    "        print(f\"Passo {t}: Posição ({pgx_values[t]}, {pgy_values[t]}), Bateria {bat_values[t]}\")\n",
    "\n",
    "    # Visualização da trajetória\n",
    "    fig, ax = plt.subplots(figsize=(10, 6))\n",
    "\n",
    "    # Plotando os pontos do warehouse\n",
    "    for x, y in warehouse:\n",
    "        ax.plot(x, y, 'rs', markersize=10, label=\"Ponto no Warehouse\")\n",
    "    \n",
    "    # Plotando a trajetória do drone\n",
    "    ax.plot(pgx_values, pgy_values, 'b-o', label=\"Trajetória do Drone\")\n",
    "    ax.plot(0, 0, 'go', markersize=12, label=\"Estação de Recarga (0,0)\")\n",
    "\n",
    "    plt.xlabel(\"X\")\n",
    "    plt.ylabel(\"Y\")\n",
    "    plt.title(\"Trajetória do Drone no Armazém\")\n",
    "    plt.legend()\n",
    "    ax.set_aspect('equal')\n",
    "    plt.show()\n"
   ]
  }
 ],
 "metadata": {
  "kernelspec": {
   "display_name": "Python 3",
   "language": "python",
   "name": "python3"
  },
  "language_info": {
   "codemirror_mode": {
    "name": "ipython",
    "version": 3
   },
   "file_extension": ".py",
   "mimetype": "text/x-python",
   "name": "python",
   "nbconvert_exporter": "python",
   "pygments_lexer": "ipython3",
   "version": "3.13.2"
  }
 },
 "nbformat": 4,
 "nbformat_minor": 2
}
